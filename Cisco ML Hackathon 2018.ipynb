{
 "cells": [
  {
   "cell_type": "markdown",
   "metadata": {},
   "source": [
    "# Parse a csv file captured using Sniffer"
   ]
  },
  {
   "cell_type": "markdown",
   "metadata": {},
   "source": [
    "#### Where is this code located"
   ]
  },
  {
   "cell_type": "code",
   "execution_count": 41,
   "metadata": {},
   "outputs": [
    {
     "data": {
      "text/plain": [
       "'/Users/aloswain/Downloads/Cisco/cisco_hackathon_2018'"
      ]
     },
     "execution_count": 41,
     "metadata": {},
     "output_type": "execute_result"
    }
   ],
   "source": [
    "pwd"
   ]
  },
  {
   "cell_type": "markdown",
   "metadata": {},
   "source": [
    "#### Import Libraries"
   ]
  },
  {
   "cell_type": "code",
   "execution_count": 42,
   "metadata": {
    "collapsed": true
   },
   "outputs": [],
   "source": [
    "%matplotlib inline\n",
    "#import matplotlib as plt\n",
    "import matplotlib.pyplot as plt"
   ]
  },
  {
   "cell_type": "code",
   "execution_count": 44,
   "metadata": {
    "collapsed": true
   },
   "outputs": [],
   "source": [
    "import pandas as pd\n",
    "import numpy as np"
   ]
  },
  {
   "cell_type": "markdown",
   "metadata": {},
   "source": [
    "#### Load the data"
   ]
  },
  {
   "cell_type": "code",
   "execution_count": 46,
   "metadata": {},
   "outputs": [
    {
     "name": "stderr",
     "output_type": "stream",
     "text": [
      "/Users/aloswain/anaconda3/lib/python3.6/site-packages/ipykernel_launcher.py:2: ParserWarning:\n",
      "\n",
      "Falling back to the 'python' engine because the 'c' engine does not support skipfooter; you can avoid this warning by specifying engine='python'.\n",
      "\n"
     ]
    }
   ],
   "source": [
    "#df = pd.read_csv('hackathon', index_col=0)\n",
    "df = pd.read_csv('capture_with_rssi_channel', index_col=0, error_bad_lines=False, warn_bad_lines=False, skipfooter=1)\n",
    "\n",
    "#print(df.head())"
   ]
  },
  {
   "cell_type": "markdown",
   "metadata": {},
   "source": [
    "#### Display some of the data"
   ]
  },
  {
   "cell_type": "code",
   "execution_count": 45,
   "metadata": {},
   "outputs": [
    {
     "data": {
      "text/html": [
       "<div>\n",
       "<style>\n",
       "    .dataframe thead tr:only-child th {\n",
       "        text-align: right;\n",
       "    }\n",
       "\n",
       "    .dataframe thead th {\n",
       "        text-align: left;\n",
       "    }\n",
       "\n",
       "    .dataframe tbody tr th {\n",
       "        vertical-align: top;\n",
       "    }\n",
       "</style>\n",
       "<table border=\"1\" class=\"dataframe\">\n",
       "  <thead>\n",
       "    <tr style=\"text-align: right;\">\n",
       "      <th></th>\n",
       "      <th>Sequence number</th>\n",
       "      <th>Time</th>\n",
       "      <th>Source address</th>\n",
       "      <th>Sequence number.1</th>\n",
       "      <th>Source address.1</th>\n",
       "      <th>Transmitter address</th>\n",
       "      <th>Source</th>\n",
       "      <th>Data rate</th>\n",
       "      <th>Length</th>\n",
       "      <th>Destination</th>\n",
       "      <th>...</th>\n",
       "      <th>Partial Virtual Bitmap</th>\n",
       "      <th>Receiver address</th>\n",
       "      <th>Source address.2</th>\n",
       "      <th>Source address.3</th>\n",
       "      <th>Destination address</th>\n",
       "      <th>Protocol</th>\n",
       "      <th>Transmitter address.1</th>\n",
       "      <th>Signal [dBm]</th>\n",
       "      <th>Channel</th>\n",
       "      <th>Info</th>\n",
       "    </tr>\n",
       "    <tr>\n",
       "      <th>No.</th>\n",
       "      <th></th>\n",
       "      <th></th>\n",
       "      <th></th>\n",
       "      <th></th>\n",
       "      <th></th>\n",
       "      <th></th>\n",
       "      <th></th>\n",
       "      <th></th>\n",
       "      <th></th>\n",
       "      <th></th>\n",
       "      <th></th>\n",
       "      <th></th>\n",
       "      <th></th>\n",
       "      <th></th>\n",
       "      <th></th>\n",
       "      <th></th>\n",
       "      <th></th>\n",
       "      <th></th>\n",
       "      <th></th>\n",
       "      <th></th>\n",
       "      <th></th>\n",
       "    </tr>\n",
       "  </thead>\n",
       "  <tbody>\n",
       "    <tr>\n",
       "      <th>1</th>\n",
       "      <td>NaN</td>\n",
       "      <td>2018-03-08 03:18:29.338087</td>\n",
       "      <td>NaN</td>\n",
       "      <td>NaN</td>\n",
       "      <td>NaN</td>\n",
       "      <td>00:81:c0:a8:01:0b</td>\n",
       "      <td>192.168.80.5</td>\n",
       "      <td>24.0</td>\n",
       "      <td>94</td>\n",
       "      <td>192.168.80.8</td>\n",
       "      <td>...</td>\n",
       "      <td>NaN</td>\n",
       "      <td>00:da:55:be:08:6f</td>\n",
       "      <td>NaN</td>\n",
       "      <td>NaN</td>\n",
       "      <td>NaN</td>\n",
       "      <td>802.11</td>\n",
       "      <td>00:81:c0:a8:01:0b</td>\n",
       "      <td>16.0</td>\n",
       "      <td>81.0</td>\n",
       "      <td>802.11 Block Ack, Flags=.........</td>\n",
       "    </tr>\n",
       "    <tr>\n",
       "      <th>2</th>\n",
       "      <td>NaN</td>\n",
       "      <td>2018-03-08 03:18:29.338162</td>\n",
       "      <td>NaN</td>\n",
       "      <td>NaN</td>\n",
       "      <td>NaN</td>\n",
       "      <td>00:81:c0:a8:01:0b</td>\n",
       "      <td>192.168.80.8</td>\n",
       "      <td>24.0</td>\n",
       "      <td>122</td>\n",
       "      <td>192.168.80.5</td>\n",
       "      <td>...</td>\n",
       "      <td>NaN</td>\n",
       "      <td>00:da:55:be:08:6f</td>\n",
       "      <td>NaN</td>\n",
       "      <td>NaN</td>\n",
       "      <td>NaN</td>\n",
       "      <td>ICMP</td>\n",
       "      <td>00:81:c0:a8:01:0b</td>\n",
       "      <td>16.0</td>\n",
       "      <td>81.0</td>\n",
       "      <td>Destination unreachable (Port unreachable)</td>\n",
       "    </tr>\n",
       "    <tr>\n",
       "      <th>3</th>\n",
       "      <td>NaN</td>\n",
       "      <td>2018-03-08 03:18:29.338220</td>\n",
       "      <td>00:93:c0:a8:01:0a</td>\n",
       "      <td>NaN</td>\n",
       "      <td>00:93:c0:a8:01:0a</td>\n",
       "      <td>00:da:55:be:08:6f</td>\n",
       "      <td>192.168.1.10</td>\n",
       "      <td>NaN</td>\n",
       "      <td>181</td>\n",
       "      <td>192.168.1.11</td>\n",
       "      <td>...</td>\n",
       "      <td>NaN</td>\n",
       "      <td>00:81:c0:a8:01:0b</td>\n",
       "      <td>00:93:c0:a8:01:0a</td>\n",
       "      <td>00:93:c0:a8:01:0a</td>\n",
       "      <td>00:81:c0:a8:01:0b</td>\n",
       "      <td>UDP</td>\n",
       "      <td>00:da:55:be:08:6f</td>\n",
       "      <td>32.0</td>\n",
       "      <td>81.0</td>\n",
       "      <td>8000  &gt;  9025 Len=18</td>\n",
       "    </tr>\n",
       "    <tr>\n",
       "      <th>4</th>\n",
       "      <td>NaN</td>\n",
       "      <td>2018-03-08 03:18:29.338241</td>\n",
       "      <td>00:93:c0:a8:01:0a</td>\n",
       "      <td>NaN</td>\n",
       "      <td>00:93:c0:a8:01:0a</td>\n",
       "      <td>00:da:55:be:08:6f</td>\n",
       "      <td>192.168.80.8</td>\n",
       "      <td>NaN</td>\n",
       "      <td>209</td>\n",
       "      <td>192.168.80.5</td>\n",
       "      <td>...</td>\n",
       "      <td>NaN</td>\n",
       "      <td>00:81:c0:a8:01:0b</td>\n",
       "      <td>00:93:c0:a8:01:0a</td>\n",
       "      <td>00:93:c0:a8:01:0a</td>\n",
       "      <td>00:81:c0:a8:01:0b</td>\n",
       "      <td>ICMP</td>\n",
       "      <td>00:da:55:be:08:6f</td>\n",
       "      <td>32.0</td>\n",
       "      <td>81.0</td>\n",
       "      <td>Destination unreachable (Port unreachable)</td>\n",
       "    </tr>\n",
       "    <tr>\n",
       "      <th>5</th>\n",
       "      <td>NaN</td>\n",
       "      <td>2018-03-08 03:18:29.347821</td>\n",
       "      <td>NaN</td>\n",
       "      <td>NaN</td>\n",
       "      <td>NaN</td>\n",
       "      <td>00:81:c0:a8:01:0b</td>\n",
       "      <td>192.168.80.5</td>\n",
       "      <td>24.0</td>\n",
       "      <td>94</td>\n",
       "      <td>192.168.80.8</td>\n",
       "      <td>...</td>\n",
       "      <td>NaN</td>\n",
       "      <td>00:da:55:be:08:6f</td>\n",
       "      <td>NaN</td>\n",
       "      <td>NaN</td>\n",
       "      <td>NaN</td>\n",
       "      <td>802.11</td>\n",
       "      <td>00:81:c0:a8:01:0b</td>\n",
       "      <td>16.0</td>\n",
       "      <td>81.0</td>\n",
       "      <td>802.11 Block Ack, Flags=.........</td>\n",
       "    </tr>\n",
       "    <tr>\n",
       "      <th>6</th>\n",
       "      <td>NaN</td>\n",
       "      <td>2018-03-08 03:18:29.347853</td>\n",
       "      <td>NaN</td>\n",
       "      <td>NaN</td>\n",
       "      <td>NaN</td>\n",
       "      <td>00:81:c0:a8:01:0b</td>\n",
       "      <td>192.168.80.8</td>\n",
       "      <td>24.0</td>\n",
       "      <td>122</td>\n",
       "      <td>192.168.80.5</td>\n",
       "      <td>...</td>\n",
       "      <td>NaN</td>\n",
       "      <td>00:da:55:be:08:6f</td>\n",
       "      <td>NaN</td>\n",
       "      <td>NaN</td>\n",
       "      <td>NaN</td>\n",
       "      <td>ICMP</td>\n",
       "      <td>00:81:c0:a8:01:0b</td>\n",
       "      <td>16.0</td>\n",
       "      <td>81.0</td>\n",
       "      <td>Destination unreachable (Port unreachable)</td>\n",
       "    </tr>\n",
       "    <tr>\n",
       "      <th>7</th>\n",
       "      <td>NaN</td>\n",
       "      <td>2018-03-08 03:18:29.347956</td>\n",
       "      <td>00:93:c0:a8:01:0a</td>\n",
       "      <td>NaN</td>\n",
       "      <td>00:93:c0:a8:01:0a</td>\n",
       "      <td>00:da:55:be:08:6f</td>\n",
       "      <td>192.168.1.10</td>\n",
       "      <td>NaN</td>\n",
       "      <td>181</td>\n",
       "      <td>192.168.1.11</td>\n",
       "      <td>...</td>\n",
       "      <td>NaN</td>\n",
       "      <td>00:81:c0:a8:01:0b</td>\n",
       "      <td>00:93:c0:a8:01:0a</td>\n",
       "      <td>00:93:c0:a8:01:0a</td>\n",
       "      <td>00:81:c0:a8:01:0b</td>\n",
       "      <td>UDP</td>\n",
       "      <td>00:da:55:be:08:6f</td>\n",
       "      <td>32.0</td>\n",
       "      <td>81.0</td>\n",
       "      <td>8000  &gt;  9025 Len=18</td>\n",
       "    </tr>\n",
       "    <tr>\n",
       "      <th>8</th>\n",
       "      <td>NaN</td>\n",
       "      <td>2018-03-08 03:18:29.347990</td>\n",
       "      <td>00:93:c0:a8:01:0a</td>\n",
       "      <td>NaN</td>\n",
       "      <td>00:93:c0:a8:01:0a</td>\n",
       "      <td>00:da:55:be:08:6f</td>\n",
       "      <td>192.168.80.8</td>\n",
       "      <td>NaN</td>\n",
       "      <td>209</td>\n",
       "      <td>192.168.80.5</td>\n",
       "      <td>...</td>\n",
       "      <td>NaN</td>\n",
       "      <td>00:81:c0:a8:01:0b</td>\n",
       "      <td>00:93:c0:a8:01:0a</td>\n",
       "      <td>00:93:c0:a8:01:0a</td>\n",
       "      <td>00:81:c0:a8:01:0b</td>\n",
       "      <td>ICMP</td>\n",
       "      <td>00:da:55:be:08:6f</td>\n",
       "      <td>32.0</td>\n",
       "      <td>81.0</td>\n",
       "      <td>Destination unreachable (Port unreachable)</td>\n",
       "    </tr>\n",
       "    <tr>\n",
       "      <th>9</th>\n",
       "      <td>NaN</td>\n",
       "      <td>2018-03-08 03:18:29.357444</td>\n",
       "      <td>NaN</td>\n",
       "      <td>NaN</td>\n",
       "      <td>NaN</td>\n",
       "      <td>00:81:c0:a8:01:0b</td>\n",
       "      <td>192.168.80.5</td>\n",
       "      <td>24.0</td>\n",
       "      <td>94</td>\n",
       "      <td>192.168.80.8</td>\n",
       "      <td>...</td>\n",
       "      <td>NaN</td>\n",
       "      <td>00:da:55:be:08:6f</td>\n",
       "      <td>NaN</td>\n",
       "      <td>NaN</td>\n",
       "      <td>NaN</td>\n",
       "      <td>802.11</td>\n",
       "      <td>00:81:c0:a8:01:0b</td>\n",
       "      <td>16.0</td>\n",
       "      <td>81.0</td>\n",
       "      <td>802.11 Block Ack, Flags=.........</td>\n",
       "    </tr>\n",
       "    <tr>\n",
       "      <th>10</th>\n",
       "      <td>NaN</td>\n",
       "      <td>2018-03-08 03:18:29.357473</td>\n",
       "      <td>NaN</td>\n",
       "      <td>NaN</td>\n",
       "      <td>NaN</td>\n",
       "      <td>00:81:c0:a8:01:0b</td>\n",
       "      <td>192.168.80.8</td>\n",
       "      <td>24.0</td>\n",
       "      <td>122</td>\n",
       "      <td>192.168.80.5</td>\n",
       "      <td>...</td>\n",
       "      <td>NaN</td>\n",
       "      <td>00:da:55:be:08:6f</td>\n",
       "      <td>NaN</td>\n",
       "      <td>NaN</td>\n",
       "      <td>NaN</td>\n",
       "      <td>ICMP</td>\n",
       "      <td>00:81:c0:a8:01:0b</td>\n",
       "      <td>16.0</td>\n",
       "      <td>81.0</td>\n",
       "      <td>Destination unreachable (Port unreachable)</td>\n",
       "    </tr>\n",
       "    <tr>\n",
       "      <th>11</th>\n",
       "      <td>NaN</td>\n",
       "      <td>2018-03-08 03:18:29.357583</td>\n",
       "      <td>00:93:c0:a8:01:0a</td>\n",
       "      <td>NaN</td>\n",
       "      <td>00:93:c0:a8:01:0a</td>\n",
       "      <td>00:da:55:be:08:6f</td>\n",
       "      <td>192.168.1.10</td>\n",
       "      <td>NaN</td>\n",
       "      <td>181</td>\n",
       "      <td>192.168.1.11</td>\n",
       "      <td>...</td>\n",
       "      <td>NaN</td>\n",
       "      <td>00:81:c0:a8:01:0b</td>\n",
       "      <td>00:93:c0:a8:01:0a</td>\n",
       "      <td>00:93:c0:a8:01:0a</td>\n",
       "      <td>00:81:c0:a8:01:0b</td>\n",
       "      <td>UDP</td>\n",
       "      <td>00:da:55:be:08:6f</td>\n",
       "      <td>32.0</td>\n",
       "      <td>81.0</td>\n",
       "      <td>8000  &gt;  9025 Len=18</td>\n",
       "    </tr>\n",
       "  </tbody>\n",
       "</table>\n",
       "<p>11 rows × 23 columns</p>\n",
       "</div>"
      ],
      "text/plain": [
       "     Sequence number                       Time     Source address  \\\n",
       "No.                                                                  \n",
       "1                NaN 2018-03-08 03:18:29.338087                NaN   \n",
       "2                NaN 2018-03-08 03:18:29.338162                NaN   \n",
       "3                NaN 2018-03-08 03:18:29.338220  00:93:c0:a8:01:0a   \n",
       "4                NaN 2018-03-08 03:18:29.338241  00:93:c0:a8:01:0a   \n",
       "5                NaN 2018-03-08 03:18:29.347821                NaN   \n",
       "6                NaN 2018-03-08 03:18:29.347853                NaN   \n",
       "7                NaN 2018-03-08 03:18:29.347956  00:93:c0:a8:01:0a   \n",
       "8                NaN 2018-03-08 03:18:29.347990  00:93:c0:a8:01:0a   \n",
       "9                NaN 2018-03-08 03:18:29.357444                NaN   \n",
       "10               NaN 2018-03-08 03:18:29.357473                NaN   \n",
       "11               NaN 2018-03-08 03:18:29.357583  00:93:c0:a8:01:0a   \n",
       "\n",
       "     Sequence number.1   Source address.1 Transmitter address        Source  \\\n",
       "No.                                                                           \n",
       "1                  NaN                NaN   00:81:c0:a8:01:0b  192.168.80.5   \n",
       "2                  NaN                NaN   00:81:c0:a8:01:0b  192.168.80.8   \n",
       "3                  NaN  00:93:c0:a8:01:0a   00:da:55:be:08:6f  192.168.1.10   \n",
       "4                  NaN  00:93:c0:a8:01:0a   00:da:55:be:08:6f  192.168.80.8   \n",
       "5                  NaN                NaN   00:81:c0:a8:01:0b  192.168.80.5   \n",
       "6                  NaN                NaN   00:81:c0:a8:01:0b  192.168.80.8   \n",
       "7                  NaN  00:93:c0:a8:01:0a   00:da:55:be:08:6f  192.168.1.10   \n",
       "8                  NaN  00:93:c0:a8:01:0a   00:da:55:be:08:6f  192.168.80.8   \n",
       "9                  NaN                NaN   00:81:c0:a8:01:0b  192.168.80.5   \n",
       "10                 NaN                NaN   00:81:c0:a8:01:0b  192.168.80.8   \n",
       "11                 NaN  00:93:c0:a8:01:0a   00:da:55:be:08:6f  192.168.1.10   \n",
       "\n",
       "     Data rate  Length   Destination  \\\n",
       "No.                                    \n",
       "1         24.0      94  192.168.80.8   \n",
       "2         24.0     122  192.168.80.5   \n",
       "3          NaN     181  192.168.1.11   \n",
       "4          NaN     209  192.168.80.5   \n",
       "5         24.0      94  192.168.80.8   \n",
       "6         24.0     122  192.168.80.5   \n",
       "7          NaN     181  192.168.1.11   \n",
       "8          NaN     209  192.168.80.5   \n",
       "9         24.0      94  192.168.80.8   \n",
       "10        24.0     122  192.168.80.5   \n",
       "11         NaN     181  192.168.1.11   \n",
       "\n",
       "                        ...                      Partial Virtual Bitmap  \\\n",
       "No.                     ...                                               \n",
       "1                       ...                                         NaN   \n",
       "2                       ...                                         NaN   \n",
       "3                       ...                                         NaN   \n",
       "4                       ...                                         NaN   \n",
       "5                       ...                                         NaN   \n",
       "6                       ...                                         NaN   \n",
       "7                       ...                                         NaN   \n",
       "8                       ...                                         NaN   \n",
       "9                       ...                                         NaN   \n",
       "10                      ...                                         NaN   \n",
       "11                      ...                                         NaN   \n",
       "\n",
       "      Receiver address   Source address.2   Source address.3  \\\n",
       "No.                                                            \n",
       "1    00:da:55:be:08:6f                NaN                NaN   \n",
       "2    00:da:55:be:08:6f                NaN                NaN   \n",
       "3    00:81:c0:a8:01:0b  00:93:c0:a8:01:0a  00:93:c0:a8:01:0a   \n",
       "4    00:81:c0:a8:01:0b  00:93:c0:a8:01:0a  00:93:c0:a8:01:0a   \n",
       "5    00:da:55:be:08:6f                NaN                NaN   \n",
       "6    00:da:55:be:08:6f                NaN                NaN   \n",
       "7    00:81:c0:a8:01:0b  00:93:c0:a8:01:0a  00:93:c0:a8:01:0a   \n",
       "8    00:81:c0:a8:01:0b  00:93:c0:a8:01:0a  00:93:c0:a8:01:0a   \n",
       "9    00:da:55:be:08:6f                NaN                NaN   \n",
       "10   00:da:55:be:08:6f                NaN                NaN   \n",
       "11   00:81:c0:a8:01:0b  00:93:c0:a8:01:0a  00:93:c0:a8:01:0a   \n",
       "\n",
       "    Destination address Protocol Transmitter address.1 Signal [dBm] Channel  \\\n",
       "No.                                                                           \n",
       "1                   NaN   802.11     00:81:c0:a8:01:0b         16.0    81.0   \n",
       "2                   NaN     ICMP     00:81:c0:a8:01:0b         16.0    81.0   \n",
       "3     00:81:c0:a8:01:0b      UDP     00:da:55:be:08:6f         32.0    81.0   \n",
       "4     00:81:c0:a8:01:0b     ICMP     00:da:55:be:08:6f         32.0    81.0   \n",
       "5                   NaN   802.11     00:81:c0:a8:01:0b         16.0    81.0   \n",
       "6                   NaN     ICMP     00:81:c0:a8:01:0b         16.0    81.0   \n",
       "7     00:81:c0:a8:01:0b      UDP     00:da:55:be:08:6f         32.0    81.0   \n",
       "8     00:81:c0:a8:01:0b     ICMP     00:da:55:be:08:6f         32.0    81.0   \n",
       "9                   NaN   802.11     00:81:c0:a8:01:0b         16.0    81.0   \n",
       "10                  NaN     ICMP     00:81:c0:a8:01:0b         16.0    81.0   \n",
       "11    00:81:c0:a8:01:0b      UDP     00:da:55:be:08:6f         32.0    81.0   \n",
       "\n",
       "                                           Info  \n",
       "No.                                              \n",
       "1             802.11 Block Ack, Flags=.........  \n",
       "2    Destination unreachable (Port unreachable)  \n",
       "3                          8000  >  9025 Len=18  \n",
       "4    Destination unreachable (Port unreachable)  \n",
       "5             802.11 Block Ack, Flags=.........  \n",
       "6    Destination unreachable (Port unreachable)  \n",
       "7                          8000  >  9025 Len=18  \n",
       "8    Destination unreachable (Port unreachable)  \n",
       "9             802.11 Block Ack, Flags=.........  \n",
       "10   Destination unreachable (Port unreachable)  \n",
       "11                         8000  >  9025 Len=18  \n",
       "\n",
       "[11 rows x 23 columns]"
      ]
     },
     "execution_count": 45,
     "metadata": {},
     "output_type": "execute_result"
    }
   ],
   "source": [
    "df[:11]"
   ]
  },
  {
   "cell_type": "markdown",
   "metadata": {},
   "source": [
    "#### What are the columns"
   ]
  },
  {
   "cell_type": "code",
   "execution_count": 48,
   "metadata": {},
   "outputs": [
    {
     "name": "stdout",
     "output_type": "stream",
     "text": [
      "Index(['Sequence number', 'Time', 'Source address', 'Sequence number.1',\n",
      "       'Source address.1', 'Transmitter address', 'Source', 'Data rate',\n",
      "       'Length', 'Destination', 'TID', 'TID.1', 'PWR MGT',\n",
      "       'Partial Virtual Bitmap', 'Receiver address', 'Source address.2',\n",
      "       'Source address.3', 'Destination address', 'Protocol',\n",
      "       'Transmitter address.1', 'Signal [dBm]', 'Channel', 'Info'],\n",
      "      dtype='object')\n"
     ]
    }
   ],
   "source": [
    "print(df.columns)"
   ]
  },
  {
   "cell_type": "markdown",
   "metadata": {},
   "source": [
    "#### Convert the time column to pandas datetime format"
   ]
  },
  {
   "cell_type": "code",
   "execution_count": 51,
   "metadata": {},
   "outputs": [
    {
     "data": {
      "text/html": [
       "<div>\n",
       "<style>\n",
       "    .dataframe thead tr:only-child th {\n",
       "        text-align: right;\n",
       "    }\n",
       "\n",
       "    .dataframe thead th {\n",
       "        text-align: left;\n",
       "    }\n",
       "\n",
       "    .dataframe tbody tr th {\n",
       "        vertical-align: top;\n",
       "    }\n",
       "</style>\n",
       "<table border=\"1\" class=\"dataframe\">\n",
       "  <thead>\n",
       "    <tr style=\"text-align: right;\">\n",
       "      <th></th>\n",
       "      <th>Sequence number</th>\n",
       "      <th>Time</th>\n",
       "      <th>Source address</th>\n",
       "      <th>Sequence number.1</th>\n",
       "      <th>Source address.1</th>\n",
       "      <th>Transmitter address</th>\n",
       "      <th>Source</th>\n",
       "      <th>Data rate</th>\n",
       "      <th>Length</th>\n",
       "      <th>Destination</th>\n",
       "      <th>...</th>\n",
       "      <th>Partial Virtual Bitmap</th>\n",
       "      <th>Receiver address</th>\n",
       "      <th>Source address.2</th>\n",
       "      <th>Source address.3</th>\n",
       "      <th>Destination address</th>\n",
       "      <th>Protocol</th>\n",
       "      <th>Transmitter address.1</th>\n",
       "      <th>Signal [dBm]</th>\n",
       "      <th>Channel</th>\n",
       "      <th>Info</th>\n",
       "    </tr>\n",
       "    <tr>\n",
       "      <th>No.</th>\n",
       "      <th></th>\n",
       "      <th></th>\n",
       "      <th></th>\n",
       "      <th></th>\n",
       "      <th></th>\n",
       "      <th></th>\n",
       "      <th></th>\n",
       "      <th></th>\n",
       "      <th></th>\n",
       "      <th></th>\n",
       "      <th></th>\n",
       "      <th></th>\n",
       "      <th></th>\n",
       "      <th></th>\n",
       "      <th></th>\n",
       "      <th></th>\n",
       "      <th></th>\n",
       "      <th></th>\n",
       "      <th></th>\n",
       "      <th></th>\n",
       "      <th></th>\n",
       "    </tr>\n",
       "  </thead>\n",
       "  <tbody>\n",
       "    <tr>\n",
       "      <th>1</th>\n",
       "      <td>NaN</td>\n",
       "      <td>2018-03-08 03:18:29.338087</td>\n",
       "      <td>NaN</td>\n",
       "      <td>NaN</td>\n",
       "      <td>NaN</td>\n",
       "      <td>00:81:c0:a8:01:0b</td>\n",
       "      <td>192.168.80.5</td>\n",
       "      <td>24.0</td>\n",
       "      <td>94</td>\n",
       "      <td>192.168.80.8</td>\n",
       "      <td>...</td>\n",
       "      <td>NaN</td>\n",
       "      <td>00:da:55:be:08:6f</td>\n",
       "      <td>NaN</td>\n",
       "      <td>NaN</td>\n",
       "      <td>NaN</td>\n",
       "      <td>802.11</td>\n",
       "      <td>00:81:c0:a8:01:0b</td>\n",
       "      <td>16.0</td>\n",
       "      <td>81.0</td>\n",
       "      <td>802.11 Block Ack, Flags=.........</td>\n",
       "    </tr>\n",
       "    <tr>\n",
       "      <th>2</th>\n",
       "      <td>NaN</td>\n",
       "      <td>2018-03-08 03:18:29.338162</td>\n",
       "      <td>NaN</td>\n",
       "      <td>NaN</td>\n",
       "      <td>NaN</td>\n",
       "      <td>00:81:c0:a8:01:0b</td>\n",
       "      <td>192.168.80.8</td>\n",
       "      <td>24.0</td>\n",
       "      <td>122</td>\n",
       "      <td>192.168.80.5</td>\n",
       "      <td>...</td>\n",
       "      <td>NaN</td>\n",
       "      <td>00:da:55:be:08:6f</td>\n",
       "      <td>NaN</td>\n",
       "      <td>NaN</td>\n",
       "      <td>NaN</td>\n",
       "      <td>ICMP</td>\n",
       "      <td>00:81:c0:a8:01:0b</td>\n",
       "      <td>16.0</td>\n",
       "      <td>81.0</td>\n",
       "      <td>Destination unreachable (Port unreachable)</td>\n",
       "    </tr>\n",
       "    <tr>\n",
       "      <th>3</th>\n",
       "      <td>NaN</td>\n",
       "      <td>2018-03-08 03:18:29.338220</td>\n",
       "      <td>00:93:c0:a8:01:0a</td>\n",
       "      <td>NaN</td>\n",
       "      <td>00:93:c0:a8:01:0a</td>\n",
       "      <td>00:da:55:be:08:6f</td>\n",
       "      <td>192.168.1.10</td>\n",
       "      <td>NaN</td>\n",
       "      <td>181</td>\n",
       "      <td>192.168.1.11</td>\n",
       "      <td>...</td>\n",
       "      <td>NaN</td>\n",
       "      <td>00:81:c0:a8:01:0b</td>\n",
       "      <td>00:93:c0:a8:01:0a</td>\n",
       "      <td>00:93:c0:a8:01:0a</td>\n",
       "      <td>00:81:c0:a8:01:0b</td>\n",
       "      <td>UDP</td>\n",
       "      <td>00:da:55:be:08:6f</td>\n",
       "      <td>32.0</td>\n",
       "      <td>81.0</td>\n",
       "      <td>8000  &gt;  9025 Len=18</td>\n",
       "    </tr>\n",
       "    <tr>\n",
       "      <th>4</th>\n",
       "      <td>NaN</td>\n",
       "      <td>2018-03-08 03:18:29.338241</td>\n",
       "      <td>00:93:c0:a8:01:0a</td>\n",
       "      <td>NaN</td>\n",
       "      <td>00:93:c0:a8:01:0a</td>\n",
       "      <td>00:da:55:be:08:6f</td>\n",
       "      <td>192.168.80.8</td>\n",
       "      <td>NaN</td>\n",
       "      <td>209</td>\n",
       "      <td>192.168.80.5</td>\n",
       "      <td>...</td>\n",
       "      <td>NaN</td>\n",
       "      <td>00:81:c0:a8:01:0b</td>\n",
       "      <td>00:93:c0:a8:01:0a</td>\n",
       "      <td>00:93:c0:a8:01:0a</td>\n",
       "      <td>00:81:c0:a8:01:0b</td>\n",
       "      <td>ICMP</td>\n",
       "      <td>00:da:55:be:08:6f</td>\n",
       "      <td>32.0</td>\n",
       "      <td>81.0</td>\n",
       "      <td>Destination unreachable (Port unreachable)</td>\n",
       "    </tr>\n",
       "    <tr>\n",
       "      <th>5</th>\n",
       "      <td>NaN</td>\n",
       "      <td>2018-03-08 03:18:29.347821</td>\n",
       "      <td>NaN</td>\n",
       "      <td>NaN</td>\n",
       "      <td>NaN</td>\n",
       "      <td>00:81:c0:a8:01:0b</td>\n",
       "      <td>192.168.80.5</td>\n",
       "      <td>24.0</td>\n",
       "      <td>94</td>\n",
       "      <td>192.168.80.8</td>\n",
       "      <td>...</td>\n",
       "      <td>NaN</td>\n",
       "      <td>00:da:55:be:08:6f</td>\n",
       "      <td>NaN</td>\n",
       "      <td>NaN</td>\n",
       "      <td>NaN</td>\n",
       "      <td>802.11</td>\n",
       "      <td>00:81:c0:a8:01:0b</td>\n",
       "      <td>16.0</td>\n",
       "      <td>81.0</td>\n",
       "      <td>802.11 Block Ack, Flags=.........</td>\n",
       "    </tr>\n",
       "  </tbody>\n",
       "</table>\n",
       "<p>5 rows × 23 columns</p>\n",
       "</div>"
      ],
      "text/plain": [
       "     Sequence number                       Time     Source address  \\\n",
       "No.                                                                  \n",
       "1                NaN 2018-03-08 03:18:29.338087                NaN   \n",
       "2                NaN 2018-03-08 03:18:29.338162                NaN   \n",
       "3                NaN 2018-03-08 03:18:29.338220  00:93:c0:a8:01:0a   \n",
       "4                NaN 2018-03-08 03:18:29.338241  00:93:c0:a8:01:0a   \n",
       "5                NaN 2018-03-08 03:18:29.347821                NaN   \n",
       "\n",
       "     Sequence number.1   Source address.1 Transmitter address        Source  \\\n",
       "No.                                                                           \n",
       "1                  NaN                NaN   00:81:c0:a8:01:0b  192.168.80.5   \n",
       "2                  NaN                NaN   00:81:c0:a8:01:0b  192.168.80.8   \n",
       "3                  NaN  00:93:c0:a8:01:0a   00:da:55:be:08:6f  192.168.1.10   \n",
       "4                  NaN  00:93:c0:a8:01:0a   00:da:55:be:08:6f  192.168.80.8   \n",
       "5                  NaN                NaN   00:81:c0:a8:01:0b  192.168.80.5   \n",
       "\n",
       "     Data rate  Length   Destination  \\\n",
       "No.                                    \n",
       "1         24.0      94  192.168.80.8   \n",
       "2         24.0     122  192.168.80.5   \n",
       "3          NaN     181  192.168.1.11   \n",
       "4          NaN     209  192.168.80.5   \n",
       "5         24.0      94  192.168.80.8   \n",
       "\n",
       "                        ...                      Partial Virtual Bitmap  \\\n",
       "No.                     ...                                               \n",
       "1                       ...                                         NaN   \n",
       "2                       ...                                         NaN   \n",
       "3                       ...                                         NaN   \n",
       "4                       ...                                         NaN   \n",
       "5                       ...                                         NaN   \n",
       "\n",
       "      Receiver address   Source address.2   Source address.3  \\\n",
       "No.                                                            \n",
       "1    00:da:55:be:08:6f                NaN                NaN   \n",
       "2    00:da:55:be:08:6f                NaN                NaN   \n",
       "3    00:81:c0:a8:01:0b  00:93:c0:a8:01:0a  00:93:c0:a8:01:0a   \n",
       "4    00:81:c0:a8:01:0b  00:93:c0:a8:01:0a  00:93:c0:a8:01:0a   \n",
       "5    00:da:55:be:08:6f                NaN                NaN   \n",
       "\n",
       "    Destination address Protocol Transmitter address.1 Signal [dBm] Channel  \\\n",
       "No.                                                                           \n",
       "1                   NaN   802.11     00:81:c0:a8:01:0b         16.0    81.0   \n",
       "2                   NaN     ICMP     00:81:c0:a8:01:0b         16.0    81.0   \n",
       "3     00:81:c0:a8:01:0b      UDP     00:da:55:be:08:6f         32.0    81.0   \n",
       "4     00:81:c0:a8:01:0b     ICMP     00:da:55:be:08:6f         32.0    81.0   \n",
       "5                   NaN   802.11     00:81:c0:a8:01:0b         16.0    81.0   \n",
       "\n",
       "                                           Info  \n",
       "No.                                              \n",
       "1             802.11 Block Ack, Flags=.........  \n",
       "2    Destination unreachable (Port unreachable)  \n",
       "3                          8000  >  9025 Len=18  \n",
       "4    Destination unreachable (Port unreachable)  \n",
       "5             802.11 Block Ack, Flags=.........  \n",
       "\n",
       "[5 rows x 23 columns]"
      ]
     },
     "execution_count": 51,
     "metadata": {},
     "output_type": "execute_result"
    }
   ],
   "source": [
    "df['Time'] = (pd.to_datetime(df['Time'],infer_datetime_format=True))\n",
    "df.head()\n",
    "#x.head()"
   ]
  },
  {
   "cell_type": "code",
   "execution_count": 52,
   "metadata": {},
   "outputs": [
    {
     "name": "stdout",
     "output_type": "stream",
     "text": [
      "datetime64[ns]\n"
     ]
    }
   ],
   "source": [
    "print(df['Time'].dtype)"
   ]
  },
  {
   "cell_type": "code",
   "execution_count": 8,
   "metadata": {},
   "outputs": [],
   "source": [
    "#print(df['Time'])"
   ]
  },
  {
   "cell_type": "code",
   "execution_count": 56,
   "metadata": {},
   "outputs": [
    {
     "data": {
      "text/plain": [
       "No.\n",
       "1   2018-03-08 03:18:29.338087\n",
       "2   2018-03-08 03:18:29.338162\n",
       "3   2018-03-08 03:18:29.338220\n",
       "4   2018-03-08 03:18:29.338241\n",
       "5   2018-03-08 03:18:29.347821\n",
       "Name: Time, dtype: datetime64[ns]"
      ]
     },
     "execution_count": 56,
     "metadata": {},
     "output_type": "execute_result"
    }
   ],
   "source": [
    "x = df['Time']\n",
    "x.head()"
   ]
  },
  {
   "cell_type": "code",
   "execution_count": 53,
   "metadata": {},
   "outputs": [
    {
     "data": {
      "text/plain": [
       "No.\n",
       "1    16.0\n",
       "2    16.0\n",
       "3    32.0\n",
       "4    32.0\n",
       "5    16.0\n",
       "Name: Signal [dBm], dtype: float64"
      ]
     },
     "execution_count": 53,
     "metadata": {},
     "output_type": "execute_result"
    }
   ],
   "source": [
    "y = df['Signal [dBm]']\n",
    "y.head()"
   ]
  },
  {
   "cell_type": "code",
   "execution_count": 55,
   "metadata": {},
   "outputs": [],
   "source": [
    "#ax = df.plot(kind='scatter', x='Time', y='Signal [dBm]', color='white', alpha=0.5, linewidth=0)\n",
    "#ax.set_ylim((0, 85))\n",
    "#ax.set_xlim((0, 70000))\n",
    "## Specify background color for the axis/plot\n",
    "#ax.set_axis_bgcolor(\"lightslategray\")"
   ]
  },
  {
   "cell_type": "code",
   "execution_count": 11,
   "metadata": {},
   "outputs": [
    {
     "data": {
      "text/plain": [
       "pandas.core.series.Series"
      ]
     },
     "execution_count": 11,
     "metadata": {},
     "output_type": "execute_result"
    }
   ],
   "source": [
    "type(y)"
   ]
  },
  {
   "cell_type": "code",
   "execution_count": 66,
   "metadata": {},
   "outputs": [],
   "source": [
    "#ts = pd.Series(y , index=x)\n",
    "#ts.head()"
   ]
  },
  {
   "cell_type": "code",
   "execution_count": 67,
   "metadata": {},
   "outputs": [],
   "source": [
    "#ts.plot()"
   ]
  },
  {
   "cell_type": "code",
   "execution_count": 68,
   "metadata": {},
   "outputs": [],
   "source": [
    "#ts.head()"
   ]
  },
  {
   "cell_type": "code",
   "execution_count": 65,
   "metadata": {},
   "outputs": [
    {
     "name": "stdout",
     "output_type": "stream",
     "text": [
      "datetime64[ns]\n",
      "float64\n"
     ]
    }
   ],
   "source": [
    "print((x.dtype))\n",
    "print((y.dtype))"
   ]
  },
  {
   "cell_type": "markdown",
   "metadata": {},
   "source": [
    "#### Plot the graph"
   ]
  },
  {
   "cell_type": "code",
   "execution_count": 72,
   "metadata": {},
   "outputs": [],
   "source": [
    "#plt.plot(x, y)"
   ]
  },
  {
   "cell_type": "code",
   "execution_count": 73,
   "metadata": {},
   "outputs": [
    {
     "data": {
      "text/plain": [
       "<matplotlib.axes._subplots.AxesSubplot at 0x125a4de10>"
      ]
     },
     "execution_count": 73,
     "metadata": {},
     "output_type": "execute_result"
    },
    {
     "data": {
      "image/png": "[encoded data removed]",
      "text/plain": [
       "<matplotlib.figure.Figure at 0x125a43278>"
      ]
     },
     "metadata": {},
     "output_type": "display_data"
    }
   ],
   "source": [
    "df1 = pd.DataFrame ({'x' : x[0:11], 'y':y[0:11]})\n",
    "df1.plot()"
   ]
  },
  {
   "cell_type": "code",
   "execution_count": 75,
   "metadata": {},
   "outputs": [],
   "source": [
    "#df1.set_index('x', inplace=True)\n",
    "#pd.DataFrame.plot.scatter(x, y)"
   ]
  },
  {
   "cell_type": "code",
   "execution_count": 76,
   "metadata": {},
   "outputs": [],
   "source": [
    "#df1.head()"
   ]
  },
  {
   "cell_type": "code",
   "execution_count": 77,
   "metadata": {},
   "outputs": [],
   "source": [
    "#ax = df1.plot(kind = 'bar')\n",
    "#ax.ax.set_axis_bgcolor(\"white\")"
   ]
  },
  {
   "cell_type": "code",
   "execution_count": 27,
   "metadata": {},
   "outputs": [],
   "source": [
    "#import plotly"
   ]
  },
  {
   "cell_type": "code",
   "execution_count": 83,
   "metadata": {},
   "outputs": [],
   "source": [
    "import plotly.plotly as py\n",
    "import plotly.graph_objs as go\n",
    "#from datetime import datetime\n",
    "##import pandas_datareader.data as web"
   ]
  },
  {
   "cell_type": "code",
   "execution_count": 84,
   "metadata": {},
   "outputs": [
    {
     "data": {
      "text/html": [
       "<iframe id=\"igraph\" scrolling=\"no\" style=\"border:none;\" seamless=\"seamless\" src=\"https://plot.ly/~alokswaincontact/6.embed\" height=\"525px\" width=\"100%\"></iframe>"
      ],
      "text/plain": [
       "<plotly.tools.PlotlyDisplay object>"
      ]
     },
     "execution_count": 84,
     "metadata": {},
     "output_type": "execute_result"
    }
   ],
   "source": [
    "data = [go.Scatter(x=df['Time'][0:500], y = df['Signal [dBm]'][0:500])]\n",
    "\n",
    "py.iplot(data)"
   ]
  }
 ],
 "metadata": {
  "kernelspec": {
   "display_name": "Python 3",
   "language": "python",
   "name": "python3"
  },
  "language_info": {
   "codemirror_mode": {
    "name": "ipython",
    "version": 3
   },
   "file_extension": ".py",
   "mimetype": "text/x-python",
   "name": "python",
   "nbconvert_exporter": "python",
   "pygments_lexer": "ipython3",
   "version": "3.6.3"
  }
 },
 "nbformat": 4,
 "nbformat_minor": 2
}
